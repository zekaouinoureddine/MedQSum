{
 "cells": [
  {
   "cell_type": "markdown",
   "metadata": {},
   "source": [
    "### Question Summarization Datasets"
   ]
  },
  {
   "cell_type": "code",
   "execution_count": 2,
   "metadata": {},
   "outputs": [],
   "source": [
    "import pandas as pd\n",
    "from sklearn.model_selection import train_test_split"
   ]
  },
  {
   "cell_type": "markdown",
   "metadata": {},
   "source": [
    "#### MeQ"
   ]
  },
  {
   "cell_type": "code",
   "execution_count": 6,
   "metadata": {},
   "outputs": [],
   "source": [
    "meq_sum_df = pd.read_excel(\"MeQSum_ACL2019_BenAbacha_Demner-Fushman.xlsx\")\n",
    "train_df, test_df = train_test_split(meq_sum_df, test_size=0.2)\n",
    "\n",
    "del train_df[\"File\"]\n",
    "del test_df[\"File\"]\n",
    "\n",
    "train_df.reset_index(drop=True, inplace=True)\n",
    "test_df.reset_index(drop=True, inplace=True)\n",
    "\n",
    "\n",
    "train_df.to_json(\"../data/meq_sum/train.json\")\n",
    "test_df.to_json(\"../data/meq_sum/valid.json\")"
   ]
  },
  {
   "cell_type": "markdown",
   "metadata": {},
   "source": [
    "#### HCM"
   ]
  },
  {
   "cell_type": "code",
   "execution_count": 10,
   "metadata": {},
   "outputs": [
    {
     "name": "stdout",
     "output_type": "stream",
     "text": [
      "(1643, 2)\n"
     ]
    }
   ],
   "source": [
    "hcm_sum_df = pd.read_json(\"HCM_sum.json\")\n",
    "hcm_sum_df.columns = [\"CHQ\", \"Summary\"]\n",
    "\n",
    "train_df, test_df = train_test_split(hcm_sum_df, test_size=0.2)\n",
    "\n",
    "train_df.reset_index(drop=True, inplace=True)\n",
    "test_df.reset_index(drop=True, inplace=True)\n",
    "\n",
    "\n",
    "train_df.to_json(\"../data/hcm_sum/train.json\")\n",
    "test_df.to_json(\"../data/hcm_sum/valid.json\")\n"
   ]
  },
  {
   "cell_type": "markdown",
   "metadata": {},
   "source": [
    "### CHQ"
   ]
  },
  {
   "cell_type": "code",
   "execution_count": 23,
   "metadata": {},
   "outputs": [],
   "source": [
    "chq_sum_df = pd.read_json(\"chq.json\")\n",
    "\n",
    "chq_sum_df = chq_sum_df[[\"CHQ\", \"human_summary\"]]\n",
    "chq_sum_df.columns = [\"CHQ\", \"Summary\"]\n",
    "\n",
    "\n",
    "train_df, test_df = train_test_split(chq_sum_df, test_size=0.2)\n",
    "\n",
    "train_df.reset_index(drop=True, inplace=True)\n",
    "test_df.reset_index(drop=True, inplace=True)\n",
    "\n",
    "train_df.to_json(\"../data/chq_sum/train.json\")\n",
    "test_df.to_json(\"../data/chq_sum/valid.json\")"
   ]
  }
 ],
 "metadata": {
  "kernelspec": {
   "display_name": "base",
   "language": "python",
   "name": "python3"
  },
  "language_info": {
   "codemirror_mode": {
    "name": "ipython",
    "version": 3
   },
   "file_extension": ".py",
   "mimetype": "text/x-python",
   "name": "python",
   "nbconvert_exporter": "python",
   "pygments_lexer": "ipython3",
   "version": "3.9.12"
  },
  "orig_nbformat": 4
 },
 "nbformat": 4,
 "nbformat_minor": 2
}
